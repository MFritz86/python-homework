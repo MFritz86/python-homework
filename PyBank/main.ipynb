{
 "cells": [
  {
   "cell_type": "code",
   "execution_count": 7,
   "metadata": {},
   "outputs": [],
   "source": [
    "from pathlib import Path\n",
    "import csv"
   ]
  },
  {
   "cell_type": "code",
   "execution_count": 8,
   "metadata": {},
   "outputs": [],
   "source": [
    "budget_data = ('Resources/budget_data.csv')"
   ]
  },
  {
   "cell_type": "code",
   "execution_count": 42,
   "metadata": {},
   "outputs": [
    {
     "name": "stdout",
     "output_type": "stream",
     "text": [
      "Total: $ 38382578.0\n"
     ]
    }
   ],
   "source": [
    "# The net total amount of Profits/Lossess over the entire period\n",
    "\n",
    "with open(budget_data) as csv_file:\n",
    "    csvreader =  csv.reader(csv_file, delimiter = \",\")\n",
    "    header = next(csvreader)\n",
    "    net = []\n",
    "    months = []\n",
    "    for row in csvreader:\n",
    "        net.append(float(row[1]))\n",
    "        months.append(row[0])\n",
    "\n",
    "print(f'Total: $ {sum(net)}')        "
   ]
  },
  {
   "cell_type": "code",
   "execution_count": 43,
   "metadata": {},
   "outputs": [
    {
     "name": "stdout",
     "output_type": "stream",
     "text": [
      "Average Change: $ -2315\n"
     ]
    }
   ],
   "source": [
    "# average of change in Profits_Losses\n",
    "profitlosschange = []\n",
    "for value in net[1:]:\n",
    "    irv = net[net.index(value) - 1]\n",
    "    change = value - irv\n",
    "    profitlosschange.append(change)\n",
    "    \n",
    "average = sum(profitlosschange) / len(profitlosschange)\n",
    "print(f\"Average Change: $ {str(round(average, ))}\")\n",
    "    "
   ]
  },
  {
   "cell_type": "code",
   "execution_count": 44,
   "metadata": {},
   "outputs": [
    {
     "name": "stdout",
     "output_type": "stream",
     "text": [
      "Greatest Increase in Profits: Feb-2012 $ 1926159.0\n"
     ]
    }
   ],
   "source": [
    "# Greatest Increase in Profits\n",
    "GreatestIncrease = max(profitlosschange)\n",
    "great = profitlosschange.index(GreatestIncrease) +1\n",
    "maxmonth = months[great]\n",
    "print(f\"Greatest Increase in Profits: {maxmonth} $ {str(GreatestIncrease)}\")"
   ]
  },
  {
   "cell_type": "code",
   "execution_count": 45,
   "metadata": {},
   "outputs": [
    {
     "name": "stdout",
     "output_type": "stream",
     "text": [
      "Greatest Decrease in Profits: Sep-2013 $ -2196167.0\n"
     ]
    }
   ],
   "source": [
    "# Greatest Decrease in Profits\n",
    "GreatestDecrease = min(profitlosschange)\n",
    "dum = profitlosschange.index(GreatestDecrease) +1\n",
    "minmonth = months[dum]\n",
    "print(f\"Greatest Decrease in Profits: {minmonth} $ {str(GreatestDecrease)}\")"
   ]
  },
  {
   "cell_type": "code",
   "execution_count": 46,
   "metadata": {},
   "outputs": [
    {
     "name": "stdout",
     "output_type": "stream",
     "text": [
      "Total Months: 86\n"
     ]
    }
   ],
   "source": [
    "# Total Number of Months in dataset\n",
    "with open(budget_data) as csv_file:\n",
    "    csvreader = csv.reader(csv_file, delimiter=',')\n",
    "\n",
    "    next(csvreader)\n",
    "    months = len(list(csvreader))\n",
    "    print(f\"Total Months: {months}\")"
   ]
  },
  {
   "cell_type": "code",
   "execution_count": 48,
   "metadata": {},
   "outputs": [
    {
     "name": "stdout",
     "output_type": "stream",
     "text": [
      "Financial Analysis\n",
      "---------------------\n",
      "Total Months: 86\n",
      "Total: $38382578.0\n",
      "Average Change: $-2315\n",
      "Greatest Increase in Profits: Feb-2012 ($1926159.0)\n",
      "Greatest Decrease in Profits: Sep-2013 ($-2196167.0)\n"
     ]
    }
   ],
   "source": [
    "print(\"Financial Analysis\")\n",
    "print(\"---------------------\")\n",
    "print(f\"Total Months: {str(months)}\")\n",
    "print(f\"Total: ${sum(net)}\")\n",
    "print(f\"Average Change: ${str(round(average, ))}\")\n",
    "print(f\"Greatest Increase in Profits: {maxmonth} (${str(GreatestIncrease)})\")\n",
    "print(f\"Greatest Decrease in Profits: {minmonth} (${str(GreatestDecrease)})\")"
   ]
  },
  {
   "cell_type": "code",
   "execution_count": null,
   "metadata": {},
   "outputs": [],
   "source": []
  }
 ],
 "metadata": {
  "kernelspec": {
   "display_name": "Python 3",
   "language": "python",
   "name": "python3"
  },
  "language_info": {
   "codemirror_mode": {
    "name": "ipython",
    "version": 3
   },
   "file_extension": ".py",
   "mimetype": "text/x-python",
   "name": "python",
   "nbconvert_exporter": "python",
   "pygments_lexer": "ipython3",
   "version": "3.8.5"
  }
 },
 "nbformat": 4,
 "nbformat_minor": 4
}
